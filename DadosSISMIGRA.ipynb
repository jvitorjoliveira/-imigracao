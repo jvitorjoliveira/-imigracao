{
  "nbformat": 4,
  "nbformat_minor": 0,
  "metadata": {
    "colab": {
      "provenance": [],
      "mount_file_id": "1O1mOffpN_I4qxXGoaVBKCEZpIEyTuYZI",
      "authorship_tag": "ABX9TyOjNjVgqbaE2PhxYw5mzcly",
      "include_colab_link": true
    },
    "kernelspec": {
      "name": "python3",
      "display_name": "Python 3"
    },
    "language_info": {
      "name": "python"
    }
  },
  "cells": [
    {
      "cell_type": "markdown",
      "metadata": {
        "id": "view-in-github",
        "colab_type": "text"
      },
      "source": [
        "<a href=\"https://colab.research.google.com/github/jvitorjoliveira/-imigracao/blob/main/DadosSISMIGRA.ipynb\" target=\"_parent\"><img src=\"https://colab.research.google.com/assets/colab-badge.svg\" alt=\"Open In Colab\"/></a>"
      ]
    },
    {
      "cell_type": "code",
      "source": [
        "from google.colab import drive\n",
        "drive.mount('/content/drive')"
      ],
      "metadata": {
        "colab": {
          "base_uri": "https://localhost:8080/"
        },
        "id": "2LZN_BqQFMR0",
        "outputId": "3e1c61de-f24b-4adb-9903-d939602681d1"
      },
      "execution_count": 2,
      "outputs": [
        {
          "output_type": "stream",
          "name": "stdout",
          "text": [
            "Mounted at /content/drive\n"
          ]
        }
      ]
    },
    {
      "cell_type": "code",
      "source": [
        "# Importar bibliotecas\n",
        "import pandas as pd\n",
        "import numpy as np\n",
        "import matplotlib.pyplot as plt\n",
        "from pyspark.sql import SparkSession"
      ],
      "metadata": {
        "id": "nLpeyrT6FVZV"
      },
      "execution_count": 3,
      "outputs": []
    },
    {
      "cell_type": "code",
      "source": [
        "spark = SparkSession.builder \\\n",
        "    .appName(\"SISMIGRA\") \\\n",
        "    .getOrCreate()"
      ],
      "metadata": {
        "id": "o4zY1V6xFZqj"
      },
      "execution_count": 4,
      "outputs": []
    },
    {
      "cell_type": "code",
      "source": [
        "# Carregar os arquivos no Colab\n",
        "file_2018 = \"/content/drive/MyDrive/SISMIGRA/sismigra_2018.csv\"\n",
        "file_2023 = \"/content/drive/MyDrive/SISMIGRA/sismigra_2023.csv\"\n",
        "\n",
        "# Carregar os arquivos no PySpark\n",
        "df_2018 = spark.read.csv(file_2018, header=True, inferSchema=True, encoding='latin1', sep=';')\n",
        "df_2023 = spark.read.csv(file_2023, header=True, inferSchema=True, encoding='latin1', sep=';')\n",
        "\n",
        "# Mostrar a estrutura dos dados\n",
        "df_2018.printSchema()\n",
        "df_2023.printSchema()"
      ],
      "metadata": {
        "colab": {
          "base_uri": "https://localhost:8080/"
        },
        "id": "c82-Xr51FmYZ",
        "outputId": "517fa40c-703a-423a-8126-516082272412"
      },
      "execution_count": 5,
      "outputs": [
        {
          "output_type": "stream",
          "name": "stdout",
          "text": [
            "root\n",
            " |-- DATAREGISTRO: integer (nullable = true)\n",
            " |-- AMPARO: string (nullable = true)\n",
            " |-- AMPARO_DESCRICAO: string (nullable = true)\n",
            " |-- GRUPO_AMPARO_LEGAL: string (nullable = true)\n",
            " |-- CLASSIFICACAO_REGISTRO: string (nullable = true)\n",
            " |-- MEIO_TRANSPORTE: string (nullable = true)\n",
            " |-- DATAENTRADA: integer (nullable = true)\n",
            " |-- UNIDADE_FED_ENTRADA: string (nullable = true)\n",
            " |-- UNIDADE_FED_RESIDENCIA: string (nullable = true)\n",
            " |-- MUNICIPIO_RESIDENCIA: string (nullable = true)\n",
            " |-- PAIS_NASCIMENTO: string (nullable = true)\n",
            " |-- PAIS_NACIONALIDADE: string (nullable = true)\n",
            " |-- CONTINENTE: string (nullable = true)\n",
            " |-- FAIXA_ETARIA: string (nullable = true)\n",
            " |-- SEXO: string (nullable = true)\n",
            " |-- ESTADO_CIVIL: string (nullable = true)\n",
            " |-- PROFISSAO: string (nullable = true)\n",
            " |-- STATUS: string (nullable = true)\n",
            " |-- CLASSIFICACAO_REVISADA: string (nullable = true)\n",
            "\n",
            "root\n",
            " |-- DATAREGISTRO: integer (nullable = true)\n",
            " |-- AMPARO: integer (nullable = true)\n",
            " |-- AMPARO_DESCRICAO: string (nullable = true)\n",
            " |-- GRUPO_AMPARO_LEGAL: string (nullable = true)\n",
            " |-- CLASSIFICACAO_REGISTRO: string (nullable = true)\n",
            " |-- DATAENTRADA: string (nullable = true)\n",
            " |-- UNIDADE_FED_RESIDENCIA: string (nullable = true)\n",
            " |-- MUNICIPIO_RESIDENCIA: string (nullable = true)\n",
            " |-- PAIS_NASCIMENTO: string (nullable = true)\n",
            " |-- PAIS_NACIONALIDADE: string (nullable = true)\n",
            " |-- CONTINENTE: string (nullable = true)\n",
            " |-- FAIXA_ETARIA: string (nullable = true)\n",
            " |-- SEXO: string (nullable = true)\n",
            " |-- ESTADO_CIVIL: string (nullable = true)\n",
            " |-- PROFISSAO: string (nullable = true)\n",
            " |-- STATUS: string (nullable = true)\n",
            " |-- CLASSIFICACAO_REVISADA: string (nullable = true)\n",
            "\n"
          ]
        }
      ]
    },
    {
      "cell_type": "code",
      "source": [],
      "metadata": {
        "id": "NxAB1wXDlfRW"
      },
      "execution_count": null,
      "outputs": []
    },
    {
      "cell_type": "code",
      "source": [
        "# 1. QUANTIDADE NUMÉRICA DE IMIGRANTES POR PAÍS DE ORIGEM (2018, 2023, VAR. P.P.)\n",
        "\n",
        "# Agrupando por nacionalidade e contando os registros\n",
        "nacionalidade_18 = df_2018.groupBy('PAIS_NACIONALIDADE').count().withColumnRenamed(\"count\", \"total_2018\")\n",
        "nacionalidade_23 = df_2023.groupBy('PAIS_NACIONALIDADE').count().withColumnRenamed(\"count\", \"total_2023\")\n",
        "\n",
        "# Juntando os dois dfs por nacionalidade\n",
        "from pyspark.sql.functions import coalesce, col\n",
        "\n",
        "merged = nacionalidade_18.join(\n",
        "    nacionalidade_23,\n",
        "    on=\"PAIS_NACIONALIDADE\",\n",
        "    how=\"outer\"\n",
        ").fillna(0)\n",
        "\n",
        "# Calculando a variação percentual\n",
        "merged = merged.withColumn(\n",
        "    \"variacao_percentual\",\n",
        "    ((col(\"total_2023\") - col(\"total_2018\")) / col(\"total_2018\") * 100).cast(\"double\")\n",
        ")\n",
        "\n",
        "# Mostrando os resultados\n",
        "merged.show(10)"
      ],
      "metadata": {
        "colab": {
          "base_uri": "https://localhost:8080/"
        },
        "id": "a-dGGU5bGA13",
        "outputId": "3e155237-3857-4d63-ed10-f0c1a1031c81"
      },
      "execution_count": 6,
      "outputs": [
        {
          "output_type": "stream",
          "name": "stdout",
          "text": [
            "+------------------+----------+----------+-------------------+\n",
            "|PAIS_NACIONALIDADE|total_2018|total_2023|variacao_percentual|\n",
            "+------------------+----------+----------+-------------------+\n",
            "|                 -|         0|       238|               NULL|\n",
            "|      AFEGANISTÃO|        30|      3231|            10670.0|\n",
            "|     AFRICA DO SUL|        92|       204| 121.73913043478262|\n",
            "|          ALBÃNIA|         7|         9|  28.57142857142857|\n",
            "|          ALEMANHA|      1426|      1313| -7.924263674614306|\n",
            "|           ANDORRA|         0|         3|               NULL|\n",
            "|            ANGOLA|      1100|      3271| 197.36363636363637|\n",
            "|          ANTÃGUA|         0|         7|               NULL|\n",
            "|         APÃTRIDA|         4|         1|              -75.0|\n",
            "|         ARGENTINA|      4894|      8931|  82.48876174908051|\n",
            "+------------------+----------+----------+-------------------+\n",
            "only showing top 10 rows\n",
            "\n"
          ]
        }
      ]
    },
    {
      "cell_type": "code",
      "source": [
        "from pyspark.sql.functions import when, col, format_number\n",
        "\n",
        "# \"-\" --> \"Sem classificação\"\n",
        "merged = merged.withColumn(\n",
        "    \"PAIS_NACIONALIDADE\",\n",
        "    when(col(\"PAIS_NACIONALIDADE\") == \"-\", \"Sem classificação\").otherwise(col(\"PAIS_NACIONALIDADE\"))\n",
        ")\n",
        "\n",
        "# NULL --> \"0\"\n",
        "merged = merged.withColumn(\n",
        "    \"variacao_percentual\",\n",
        "    when(col(\"variacao_percentual\").isNull(), 0).otherwise(col(\"variacao_percentual\"))\n",
        ")\n",
        "\n",
        "# Tranformando em objeto númerico\n",
        "merged = merged.withColumn(\n",
        "    \"variacao_percentual\",\n",
        "    when(col(\"variacao_percentual\") == \"0\", 0).otherwise(col(\"variacao_percentual\").cast(\"double\"))\n",
        ")\n",
        "\n",
        "# Formatando para uma casa decimal\n",
        "merged = merged.withColumn(\n",
        "    \"variacao_percentual\",\n",
        "    format_number(col(\"variacao_percentual\"), 1)\n",
        ")\n",
        "\n",
        "# Ordenando de forma decrescente pelo total de estrangeiros em 2023\n",
        "merged_ordenado = merged.orderBy(col(\"total_2023\").desc())\n",
        "\n",
        "# Mostrando os resultados ordenados\n",
        "1. análisemerged_ordenado.show(10)"
      ],
      "metadata": {
        "colab": {
          "base_uri": "https://localhost:8080/"
        },
        "id": "tXjUuH5gHX0H",
        "outputId": "0e8bd611-bdef-4ccf-e406-50b3eb79ba25"
      },
      "execution_count": 7,
      "outputs": [
        {
          "output_type": "stream",
          "name": "stdout",
          "text": [
            "+------------------+----------+----------+-------------------+\n",
            "|PAIS_NACIONALIDADE|total_2018|total_2023|variacao_percentual|\n",
            "+------------------+----------+----------+-------------------+\n",
            "|         VENEZUELA|     32494|    126185|              288.3|\n",
            "|          BOLÃVIA|      7862|     16175|              105.7|\n",
            "|         COLÃMBIA|      9699|      9678|               -0.2|\n",
            "|         ARGENTINA|      4894|      8931|               82.5|\n",
            "|              CUBA|      1863|      7673|              311.9|\n",
            "|          PARAGUAI|      2856|      7369|              158.0|\n",
            "|             HAITI|     14227|      6495|              -54.3|\n",
            "|              PERU|      3055|      4168|               36.4|\n",
            "|           URUGUAI|      5597|      3486|              -37.7|\n",
            "|    ESTADOS UNIDOS|      3253|      3286|                1.0|\n",
            "+------------------+----------+----------+-------------------+\n",
            "only showing top 10 rows\n",
            "\n"
          ]
        }
      ]
    },
    {
      "cell_type": "code",
      "source": [
        "# 2. UF DE RESIDÊNCIA DOS IMIGRANTES (TOTAL NUMÉRICO) -- 2018, 2023 E VAR P.P.\n",
        "\n",
        "from pyspark.sql.functions import col, when, format_number\n",
        "\n",
        "# Agrupando por UF e contando os registros (2018 vs. 2023)\n",
        "uf_18 = df_2018.groupBy('UNIDADE_FED_RESIDENCIA').count().withColumnRenamed(\"count\", \"total_2018\")\n",
        "uf_23 = df_2023.groupBy('UNIDADE_FED_RESIDENCIA').count().withColumnRenamed(\"count\", \"total_2023\")\n",
        "\n",
        "# Juntar os dois DataFrames por UF\n",
        "uf_merged = uf_18.join(uf_23, on=\"UNIDADE_FED_RESIDENCIA\", how=\"outer\").fillna(0)\n",
        "\n",
        "# Calculando a variação percentual\n",
        "uf_merged = uf_merged.withColumn(\n",
        "    \"variacao_percentual\",\n",
        "    when(col(\"total_2018\") == 0, 0).otherwise(((col(\"total_2023\") - col(\"total_2018\")) / col(\"total_2018\") * 100).cast(\"double\"))\n",
        ")\n",
        "\n",
        "# Formatando a variação percentual para uma casa decimal\n",
        "uf_merged = uf_merged.withColumn(\n",
        "    \"variacao_percentual\",\n",
        "    format_number(col(\"variacao_percentual\"), 1)\n",
        ")\n",
        "\n",
        "# Ordenando de forma decrescente pelo total de imigrantes em 2023\n",
        "uf_sorted = uf_merged.orderBy(col(\"total_2023\").desc())\n",
        "\n",
        "# Mostrando os resultados\n",
        "uf_sorted.show(10)"
      ],
      "metadata": {
        "colab": {
          "base_uri": "https://localhost:8080/"
        },
        "id": "VrNOcjPaJpyW",
        "outputId": "17f6dc22-0a1b-4a5b-c369-d3c048428d73"
      },
      "execution_count": 8,
      "outputs": [
        {
          "output_type": "stream",
          "name": "stdout",
          "text": [
            "+----------------------+----------+----------+-------------------+\n",
            "|UNIDADE_FED_RESIDENCIA|total_2018|total_2023|variacao_percentual|\n",
            "+----------------------+----------+----------+-------------------+\n",
            "|                    SP|     34877|     50814|               45.7|\n",
            "|                    RR|     23564|     45197|               91.8|\n",
            "|                    SC|      7972|     28650|              259.4|\n",
            "|                    PR|      8301|     25685|              209.4|\n",
            "|                    AM|      4234|     17900|              322.8|\n",
            "|                    RS|     10224|     17510|               71.3|\n",
            "|                    RJ|      8800|      9399|                6.8|\n",
            "|                    MG|      4535|      6325|               39.5|\n",
            "|                    MS|      1476|      5171|              250.3|\n",
            "|                    MT|      1309|      4432|              238.6|\n",
            "+----------------------+----------+----------+-------------------+\n",
            "only showing top 10 rows\n",
            "\n"
          ]
        }
      ]
    },
    {
      "cell_type": "code",
      "source": [
        "# 3. QUANTIDADE DE IMIGRANTES POR REGIÃO BRASILEIRA (2018, 2023, VAR P.P.)\n",
        "\n",
        "from pyspark.sql.functions import col, when, format_number\n",
        "\n",
        "# De estados --> regiões brasileiras\n",
        "regioes = {\n",
        "    \"Norte\": [\"AC\", \"AP\", \"AM\", \"PA\", \"RO\", \"RR\", \"TO\"],\n",
        "    \"Nordeste\": [\"AL\", \"BA\", \"CE\", \"MA\", \"PB\", \"PE\", \"PI\", \"RN\", \"SE\"],\n",
        "    \"Centro-Oeste\": [\"DF\", \"GO\", \"MT\", \"MS\"],\n",
        "    \"Sudeste\": [\"ES\", \"MG\", \"RJ\", \"SP\"],\n",
        "    \"Sul\": [\"PR\", \"RS\", \"SC\"]\n",
        "}\n",
        "\n",
        "# Função para mapear estados às suas regiões\n",
        "def mapear_regiao(uf_col):\n",
        "    return when(uf_col.isin(*regioes[\"Norte\"]), \"Norte\") \\\n",
        "           .when(uf_col.isin(*regioes[\"Nordeste\"]), \"Nordeste\") \\\n",
        "           .when(uf_col.isin(*regioes[\"Centro-Oeste\"]), \"Centro-Oeste\") \\\n",
        "           .when(uf_col.isin(*regioes[\"Sudeste\"]), \"Sudeste\") \\\n",
        "           .when(uf_col.isin(*regioes[\"Sul\"]), \"Sul\") \\\n",
        "           .otherwise(\"Outros\")  # Caso haja algum valor não identificado\n",
        "\n",
        "# Adicionar a coluna de região em 2018 e 2023\n",
        "df_2018 = df_2018.withColumn(\"REGIAO\", mapear_regiao(col(\"UNIDADE_FED_RESIDENCIA\")))\n",
        "df_2023 = df_2023.withColumn(\"REGIAO\", mapear_regiao(col(\"UNIDADE_FED_RESIDENCIA\")))\n",
        "\n",
        "# Agrupar por região e contar os registros\n",
        "regiao_18 = df_2018.groupBy(\"REGIAO\").count().withColumnRenamed(\"count\", \"total_2018\")\n",
        "regiao_23 = df_2023.groupBy(\"REGIAO\").count().withColumnRenamed(\"count\", \"total_2023\")\n",
        "\n",
        "# Juntar os dois dfs por região\n",
        "regiao_merged = regiao_18.join(regiao_23, on=\"REGIAO\", how=\"outer\").fillna(0)\n",
        "\n",
        "# Calcular a variação percentual\n",
        "regiao_merged = regiao_merged.withColumn(\n",
        "    \"variacao_percentual\",\n",
        "    when(col(\"total_2018\") == 0, 0).otherwise(((col(\"total_2023\") - col(\"total_2018\")) / col(\"total_2018\") * 100).cast(\"double\"))\n",
        ")\n",
        "\n",
        "# Formatar a variação percentual para uma casa decimal\n",
        "regiao_merged = regiao_merged.withColumn(\n",
        "    \"variacao_percentual\",\n",
        "    format_number(col(\"variacao_percentual\"), 1)\n",
        ")\n",
        "\n",
        "# Ordenar de forma decrescente pelo total de imigrantes (2023)\n",
        "regiao_sorted = regiao_merged.orderBy(col(\"total_2023\").desc())\n",
        "\n",
        "# Mostrar os resultados\n",
        "regiao_sorted.show()"
      ],
      "metadata": {
        "colab": {
          "base_uri": "https://localhost:8080/"
        },
        "id": "r9rZsNW6LOSh",
        "outputId": "57967533-6ea2-4a74-da04-20cc4be8ff1a"
      },
      "execution_count": 9,
      "outputs": [
        {
          "output_type": "stream",
          "name": "stdout",
          "text": [
            "+------------+----------+----------+-------------------+\n",
            "|      REGIAO|total_2018|total_2023|variacao_percentual|\n",
            "+------------+----------+----------+-------------------+\n",
            "|         Sul|     26497|     71845|              171.1|\n",
            "|       Norte|     29888|     68140|              128.0|\n",
            "|     Sudeste|     48926|     67545|               38.1|\n",
            "|Centro-Oeste|      6026|     14924|              147.7|\n",
            "|    Nordeste|      9103|      8994|               -1.2|\n",
            "|      Outros|      1334|       745|              -44.2|\n",
            "+------------+----------+----------+-------------------+\n",
            "\n"
          ]
        }
      ]
    },
    {
      "cell_type": "code",
      "source": [
        "# IMIGRANTES POR UF\n",
        "\n",
        "df_2023.select(\"UNIDADE_FED_RESIDENCIA\").distinct().show()\n",
        "imigrantes_estado_df = df_2023.groupBy(\"UNIDADE_FED_RESIDENCIA\").count().withColumnRenamed(\"count\", \"imigrantes_2023\")\n",
        "imigrantes_estado_df.show()"
      ],
      "metadata": {
        "colab": {
          "base_uri": "https://localhost:8080/"
        },
        "id": "1BfOBkDaOK4x",
        "outputId": "0ec5f7d0-3646-4d93-d6d0-25e7de59a9cb"
      },
      "execution_count": 10,
      "outputs": [
        {
          "output_type": "stream",
          "name": "stdout",
          "text": [
            "+----------------------+\n",
            "|UNIDADE_FED_RESIDENCIA|\n",
            "+----------------------+\n",
            "|                    SC|\n",
            "|                    RO|\n",
            "|                    PI|\n",
            "|                    AM|\n",
            "|                    RR|\n",
            "|                    GO|\n",
            "|                    TO|\n",
            "|                    MT|\n",
            "|                    SP|\n",
            "|                    ES|\n",
            "|                    PB|\n",
            "|                    RS|\n",
            "|                    MS|\n",
            "|                    AL|\n",
            "|                     -|\n",
            "|                    MG|\n",
            "|                    PA|\n",
            "|                    BA|\n",
            "|                    SE|\n",
            "|                    PE|\n",
            "+----------------------+\n",
            "only showing top 20 rows\n",
            "\n",
            "+----------------------+---------------+\n",
            "|UNIDADE_FED_RESIDENCIA|imigrantes_2023|\n",
            "+----------------------+---------------+\n",
            "|                    SC|          28650|\n",
            "|                    RO|           2426|\n",
            "|                    PI|            285|\n",
            "|                    AM|          17900|\n",
            "|                    RR|          45197|\n",
            "|                    GO|           3047|\n",
            "|                    TO|            161|\n",
            "|                    MT|           4432|\n",
            "|                    SP|          50814|\n",
            "|                    ES|           1007|\n",
            "|                    PB|            609|\n",
            "|                    RS|          17510|\n",
            "|                    MS|           5171|\n",
            "|                    AL|            336|\n",
            "|                     -|            745|\n",
            "|                    MG|           6325|\n",
            "|                    PA|           1420|\n",
            "|                    BA|           2736|\n",
            "|                    SE|            259|\n",
            "|                    PE|           1444|\n",
            "+----------------------+---------------+\n",
            "only showing top 20 rows\n",
            "\n"
          ]
        }
      ]
    },
    {
      "cell_type": "code",
      "source": [
        "# 4. PERCENTUAL DE IMIGRANTES within POPULAÇÃO ESTADUAL (DE ACORDO COM O CENSO DO IBGE 2022)\n",
        "\n",
        "from pyspark.sql.functions import format_number\n",
        "\n",
        "# Dicionário com a população de cada estado (Censo 2022)\n",
        "censo_2022 = {\n",
        "    \"SP\": 44411238, \"MG\": 20538718, \"RJ\": 16054524, \"BA\": 14141626, \"PR\": 11444380,\n",
        "    \"RS\": 10882965, \"PE\": 9058931, \"CE\": 8794957, \"PA\": 8121025, \"SC\": 7610361,\n",
        "    \"GO\": 7056495, \"MA\": 6775805, \"AM\": 3941613, \"PB\": 3974687, \"ES\": 3833712,\n",
        "    \"MT\": 3658649, \"RN\": 3302729, \"PI\": 3271199, \"AL\": 3127683, \"DF\": 2817381,\n",
        "    \"MS\": 2757013, \"SE\": 2209558, \"RO\": 1581196, \"TO\": 1511460, \"AC\": 830018,\n",
        "    \"AP\": 733759, \"RR\": 636707\n",
        "}\n",
        "\n",
        "# Criando um DataFrame com a população de cada estado para o Censo (2022)\n",
        "from pyspark.sql import Row\n",
        "pop_estado_df = spark.createDataFrame([Row(UNIDADE_FED_RESIDENCIA=k, pop_censo_2022=v)\n",
        "                                      for k, v in censo_2022.items()])\n",
        "\n",
        "# Somando a quantidade de imigrantes por estado no SISMIGRA (2023)\n",
        "imigrantes_estado_df = df_2023.groupBy(\"UNIDADE_FED_RESIDENCIA\").count().withColumnRenamed(\"count\", \"imigrantes_2023\")\n",
        "\n",
        "# Juntando os dois dfs\n",
        "df_estado_comparacao = imigrantes_estado_df.join(pop_estado_df, on=\"UNIDADE_FED_RESIDENCIA\", how=\"inner\")\n",
        "\n",
        "# Calculando a % de imigrantes em relação à população do Censo (2022)\n",
        "df_estado_comparacao = df_estado_comparacao.withColumn(\n",
        "    \"percentual_imigrantes\",\n",
        "    (col(\"imigrantes_2023\") / col(\"pop_censo_2022\") * 100)\n",
        ")\n",
        "\n",
        "# Ordenando pelos estados com maior percentual de imigrantes\n",
        "df_estado_comparacao_sorted = df_estado_comparacao.orderBy(col(\"percentual_imigrantes\").desc())\n",
        "\n",
        "# Formatando a coluna c/ 2 casas decimais\n",
        "df_estado_comparacao_sorted = df_estado_comparacao_sorted.withColumn(\n",
        "    \"percentual_imigrantes\",\n",
        "    format_number(col(\"percentual_imigrantes\"), 2)\n",
        ")\n",
        "\n",
        "# Mostrando o resultado\n",
        "df_estado_comparacao_sorted.select(\"UNIDADE_FED_RESIDENCIA\", \"imigrantes_2023\", \"pop_censo_2022\", \"percentual_imigrantes\").show(10)"
      ],
      "metadata": {
        "colab": {
          "base_uri": "https://localhost:8080/"
        },
        "id": "l8zthJYNNhmq",
        "outputId": "8f1e3a10-88ca-4f7b-e64c-0c65c6f7bcef"
      },
      "execution_count": 11,
      "outputs": [
        {
          "output_type": "stream",
          "name": "stdout",
          "text": [
            "+----------------------+---------------+--------------+---------------------+\n",
            "|UNIDADE_FED_RESIDENCIA|imigrantes_2023|pop_censo_2022|percentual_imigrantes|\n",
            "+----------------------+---------------+--------------+---------------------+\n",
            "|                    RR|          45197|        636707|                 7.10|\n",
            "|                    AM|          17900|       3941613|                 0.45|\n",
            "|                    SC|          28650|       7610361|                 0.38|\n",
            "|                    PR|          25685|      11444380|                 0.22|\n",
            "|                    MS|           5171|       2757013|                 0.19|\n",
            "|                    RS|          17510|      10882965|                 0.16|\n",
            "|                    RO|           2426|       1581196|                 0.15|\n",
            "|                    MT|           4432|       3658649|                 0.12|\n",
            "|                    SP|          50814|      44411238|                 0.11|\n",
            "|                    AC|            771|        830018|                 0.09|\n",
            "+----------------------+---------------+--------------+---------------------+\n",
            "only showing top 10 rows\n",
            "\n"
          ]
        }
      ]
    },
    {
      "cell_type": "code",
      "source": [
        "# 5. AGRUPAMENTO POR FAIXA ETÁRIA (2018, 2023 e MUDANÇA %)\n",
        "\n",
        "import pandas as pd\n",
        "\n",
        "# Caminhos dos arquivos\n",
        "file_2018 = \"/content/drive/MyDrive/SISMIGRA/sismigra_2018.csv\"\n",
        "file_2023 = \"/content/drive/MyDrive/SISMIGRA/sismigra_2023.csv\"\n",
        "\n",
        "# Carregando os dados\n",
        "dados_2018 = pd.read_csv(file_2018, delimiter=\";\")\n",
        "dados_2023 = pd.read_csv(file_2023, delimiter=\";\")\n",
        "\n",
        "# Agrupando por faixa etária e contar registros\n",
        "faixa_2018 = dados_2018.groupby('FAIXA_ETARIA').size()\n",
        "faixa_2023 = dados_2023.groupby('FAIXA_ETARIA').size()\n",
        "\n",
        "# Criando df para comparações\n",
        "comparacao = pd.DataFrame({\n",
        "    '2018': faixa_2018,\n",
        "    '2023': faixa_2023\n",
        "}).fillna(0)  # Substitui ausentes por 0\n",
        "\n",
        "# Calculando crescimento percentual\n",
        "comparacao['Crescimento %'] = ((comparacao['2023'] - comparacao['2018']) / comparacao['2018']) * 100\n",
        "\n",
        "# Ordenando os resultados com uma casa decimal\n",
        "comparacao = comparacao.sort_values('Crescimento %', ascending=False)\n",
        "comparacao['Crescimento %'] = comparacao['Crescimento %'].round(1)\n",
        "\n",
        "# Exibindo\n",
        "print(comparacao)"
      ],
      "metadata": {
        "colab": {
          "base_uri": "https://localhost:8080/"
        },
        "id": "h5GczjciSChA",
        "outputId": "3e4c4b6e-2ae2-4e41-cdc5-9f9aaf6f134c"
      },
      "execution_count": 12,
      "outputs": [
        {
          "output_type": "stream",
          "name": "stderr",
          "text": [
            "<ipython-input-12-fd2f4fb26817>:8: DtypeWarning: Columns (1) have mixed types. Specify dtype option on import or set low_memory=False.\n",
            "  dados_2018 = pd.read_csv(file_2018, delimiter=\";\")\n"
          ]
        },
        {
          "output_type": "stream",
          "name": "stdout",
          "text": [
            "                   2018   2023  Crescimento %\n",
            "FAIXA_ETARIA                                 \n",
            "NÃO ESPECIFICADO    102  16734        16305.9\n",
            "0 |-- 15 anos     11195  46199          312.7\n",
            "65 |-- anos        2005   6929          245.6\n",
            "40 |-- 65 anos    23835  41059           72.3\n",
            "15 |-- 25 anos    33761  54896           62.6\n",
            "25 |-- 40 anos    50876  66376           30.5\n"
          ]
        }
      ]
    },
    {
      "cell_type": "code",
      "source": [
        "# 6. AGRUPAMENTO POR PROFISSÃO (2018, 2023 e MUDANÇA %)\n",
        "\n",
        "import pandas as pd\n",
        "\n",
        "# Carregando os dados\n",
        "dados_2018 = pd.read_csv(\"/content/drive/MyDrive/SISMIGRA/sismigra_2018.csv\", delimiter=\";\")\n",
        "dados_2023 = pd.read_csv(\"/content/drive/MyDrive/SISMIGRA/sismigra_2023.csv\", delimiter=\";\")\n",
        "\n",
        "# Agrupando por profissão e contando registros\n",
        "profissao_2018 = dados_2018.groupby('PROFISSAO').size()\n",
        "profissao_2023 = dados_2023.groupby('PROFISSAO').size()\n",
        "\n",
        "# Criando df para comparações\n",
        "comparacao_profissao = pd.DataFrame({\n",
        "    '2018': profissao_2018,\n",
        "    '2023': profissao_2023\n",
        "}).fillna(0)  # Substitui ausentes por 0\n",
        "\n",
        "# Calculando o crescimento percentual\n",
        "comparacao_profissao['Crescimento %'] = ((comparacao_profissao['2023'] - comparacao_profissao['2018']) / comparacao_profissao['2018']) * 100\n",
        "\n",
        "# Ordenando os resultados por crescimento percentual, em ordem decrescente\n",
        "comparacao_profissao = comparacao_profissao.sort_values('Crescimento %', ascending=False)\n",
        "\n",
        "# Exibindo o crescimento percentual com uma casa decimal\n",
        "comparacao_profissao['Crescimento %'] = comparacao_profissao['Crescimento %'].round(1)\n",
        "\n",
        "# Exibindo o resultado\n",
        "print(comparacao_profissao)"
      ],
      "metadata": {
        "colab": {
          "base_uri": "https://localhost:8080/"
        },
        "id": "GNRepYgNU8GV",
        "outputId": "f9f76ce8-ee65-492c-b060-7420daefcbb2"
      },
      "execution_count": 13,
      "outputs": [
        {
          "output_type": "stream",
          "name": "stderr",
          "text": [
            "<ipython-input-13-9c48ad22ad44>:4: DtypeWarning: Columns (1) have mixed types. Specify dtype option on import or set low_memory=False.\n",
            "  dados_2018 = pd.read_csv(\"/content/drive/MyDrive/SISMIGRA/sismigra_2018.csv\", delimiter=\";\")\n"
          ]
        },
        {
          "output_type": "stream",
          "name": "stdout",
          "text": [
            "                                                      2018     2023  \\\n",
            "PROFISSAO                                                             \n",
            "-                                                      0.0     23.0   \n",
            "MENOR ( CRIANCA , NAO ESTUDANTE )                   2690.0  24297.0   \n",
            "SEM OCUPACAO                                        8874.0  35093.0   \n",
            "PESCADOR, LENHADOR, OU ASSEMELHADO                    55.0    201.0   \n",
            "MANEQUIM, MODELO, OU ASSEMELHADO                      12.0     42.0   \n",
            "...                                                    ...      ...   \n",
            "AERONAUTA, PILOTO, NAVEGADOR, COMISSARIO, AEROM...   167.0     78.0   \n",
            "TRABALHADOR NA INDUSTRIA DO FUMO                      14.0      4.0   \n",
            "TRABALHADOR DA INDUSTRIA QUIMICA, DA INDUSTRIA ...   200.0     57.0   \n",
            "DIRETOR , GERENTE OU PROPRIETARIO, DE ESTABELEC...   543.0    148.0   \n",
            "OCUPANTE DE CARGO LEGISLATIVO, ( SENADOR , DEPU...     1.0      0.0   \n",
            "\n",
            "                                                    Crescimento %  \n",
            "PROFISSAO                                                          \n",
            "-                                                             inf  \n",
            "MENOR ( CRIANCA , NAO ESTUDANTE )                           803.2  \n",
            "SEM OCUPACAO                                                295.5  \n",
            "PESCADOR, LENHADOR, OU ASSEMELHADO                          265.5  \n",
            "MANEQUIM, MODELO, OU ASSEMELHADO                            250.0  \n",
            "...                                                           ...  \n",
            "AERONAUTA, PILOTO, NAVEGADOR, COMISSARIO, AEROM...          -53.3  \n",
            "TRABALHADOR NA INDUSTRIA DO FUMO                            -71.4  \n",
            "TRABALHADOR DA INDUSTRIA QUIMICA, DA INDUSTRIA ...          -71.5  \n",
            "DIRETOR , GERENTE OU PROPRIETARIO, DE ESTABELEC...          -72.7  \n",
            "OCUPANTE DE CARGO LEGISLATIVO, ( SENADOR , DEPU...         -100.0  \n",
            "\n",
            "[93 rows x 3 columns]\n"
          ]
        }
      ]
    },
    {
      "cell_type": "code",
      "source": [
        "# 7. PRINCIPAL PROFISSÃO POR PAÍS (2018, 2023 e MUDANÇA %)\n",
        "\n",
        "import pandas as pd\n",
        "\n",
        "# Carregando os dados\n",
        "df_2018 = pd.read_csv(\"/content/drive/MyDrive/SISMIGRA/sismigra_2018.csv\", delimiter=\";\")\n",
        "df_2023 = pd.read_csv(\"/content/drive/MyDrive/SISMIGRA/sismigra_2023.csv\", delimiter=\";\")\n",
        "\n",
        "# Concatenando os dados de 2018 e 2023 para análise conjunta\n",
        "df = pd.concat([df_2018, df_2023])\n",
        "\n",
        "# Agrupando os dados por país de origem e profissão em 2023\n",
        "agrup_prof_2023 = df_2023.groupby(['PAIS_NACIONALIDADE', 'PROFISSAO']).size().unstack(fill_value=0)\n",
        "\n",
        "# Filtrando países com no mínimo 50 imigrantes (em 2023)\n",
        "imigrantes_pais_2023 = df_2023['PAIS_NACIONALIDADE'].value_counts()\n",
        "pais_50_ou_mais = imigrantes_pais_2023[imigrantes_pais_2023 >= 50].index\n",
        "\n",
        "# Filtrando o df para incluir apenas os países com, no mínimo, 50 imigrantes\n",
        "agrup_pais_prof_2023 = agrup_prof_2023.loc[pais_50_ou_mais]\n",
        "\n",
        "# Identificando a profissão com maior número de imigrantes p/ cada país\n",
        "prof_pais = agrup_pais_prof_2023.idxmax(axis=1)\n",
        "\n",
        "# Calculando o número bruto de imigrantes para a profissão predominante\n",
        "num_imigrantes_prof = agrup_pais_prof_2023.max(axis=1)\n",
        "\n",
        "# Criando o df final\n",
        "top_3_prof = pd.DataFrame({\n",
        "    'Pais': num_imigrantes_prof.index,\n",
        "    'Profissao': prof_pais,\n",
        "    'Num Imigrantes': num_imigrantes_prof\n",
        "})\n",
        "\n",
        "# Ordenando\n",
        "top_3_prof_sorted = top_3_prof.sort_values(by='Num Imigrantes', ascending=False).head(3)\n",
        "\n",
        "# Exibindo os resultados\n",
        "print(top_3_prof_sorted)"
      ],
      "metadata": {
        "colab": {
          "base_uri": "https://localhost:8080/"
        },
        "id": "Q9MN7j6EVg4m",
        "outputId": "3e4f03d1-b7f5-4f55-c3fe-84b1b5963d26"
      },
      "execution_count": 14,
      "outputs": [
        {
          "output_type": "stream",
          "name": "stderr",
          "text": [
            "<ipython-input-14-b1633ad83fa8>:4: DtypeWarning: Columns (1) have mixed types. Specify dtype option on import or set low_memory=False.\n",
            "  df_2018 = pd.read_csv(\"/content/drive/MyDrive/SISMIGRA/sismigra_2018.csv\", delimiter=\";\")\n"
          ]
        },
        {
          "output_type": "stream",
          "name": "stdout",
          "text": [
            "                         Pais  \\\n",
            "PAIS_NACIONALIDADE              \n",
            "VENEZUELA           VENEZUELA   \n",
            "BOLÍVIA               BOLÍVIA   \n",
            "CUBA                     CUBA   \n",
            "\n",
            "                                                            Profissao  \\\n",
            "PAIS_NACIONALIDADE                                                      \n",
            "VENEZUELA                                                SEM OCUPACAO   \n",
            "BOLÍVIA             DECORADOR, COSTUREIRO, ALFAIATE, MODISTA, PELE...   \n",
            "CUBA                                  OUTRA OCUPACAO NAO CLASSIFICADA   \n",
            "\n",
            "                    Num Imigrantes  \n",
            "PAIS_NACIONALIDADE                  \n",
            "VENEZUELA                    24930  \n",
            "BOLÍVIA                       7128  \n",
            "CUBA                          3626  \n"
          ]
        }
      ]
    },
    {
      "cell_type": "code",
      "source": [
        "### TRANSFORMANDO A ÚLTIMA ANÁLISE EM UM DF .CSV\n",
        "\n",
        "top_3_prof_sorted.to_csv('/content/drive/MyDrive/SISMIGRA/top_3_profissoes.csv', index=False)"
      ],
      "metadata": {
        "id": "0eFWtrzwlM1a"
      },
      "execution_count": null,
      "outputs": []
    },
    {
      "cell_type": "code",
      "source": [
        "### RENOMEANDO COLUNAS\n",
        "\n",
        "import pandas as pd\n",
        "\n",
        "# Carregando os dados\n",
        "df_2018 = pd.read_csv(\"/content/drive/MyDrive/SISMIGRA/sismigra_2018.csv\", delimiter=\";\")\n",
        "\n",
        "# Renomeando\n",
        "df_2018.rename(columns={\n",
        "    'DATAREGISTRO': 'Data_Registro',\n",
        "    'AMPARO': 'Tipo_Amparo',\n",
        "    'GRUPO_AMPARO_LEGAL': 'Grupo_Amparo_Legal',\n",
        "    'CLASSIFICACAO_REGISTRO': 'Classificacao_Registro',\n",
        "    'MEIO_TRANSPORTE': 'Meio_Transporte'\n",
        "}, inplace=True)\n",
        "\n",
        "# Exibindo\n",
        "print(df_2018.head())"
      ],
      "metadata": {
        "id": "GC4Xw6U0lgvl"
      },
      "execution_count": null,
      "outputs": []
    }
  ]
}